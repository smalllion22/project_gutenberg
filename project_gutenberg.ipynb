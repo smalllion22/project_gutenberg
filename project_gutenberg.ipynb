{
 "cells": [
  {
   "cell_type": "code",
   "execution_count": 13,
   "metadata": {},
   "outputs": [],
   "source": [
    "from selenium import webdriver\n",
    "from selenium.webdriver.chrome.service import Service\n",
    "from selenium.webdriver.common.by import By\n",
    "\n",
    "import os\n",
    "import re\n",
    "import json\n",
    "import requests as req\n",
    "from bs4 import BeautifulSoup as bs\n",
    "\n",
    "my_options = webdriver.ChromeOptions()\n",
    "\n",
    "#最大化視窗\n",
    "my_options.add_argument(\"--start-maximized\")\n",
    "#開啟無痕模式    \n",
    "my_options.add_argument(\"--incognito\")\n",
    "#禁用彈出攔截\n",
    "my_options.add_argument(\"--disable-popup-blocking\")\n",
    "#取消通知\n",
    "my_options.add_argument(\"--disable-notifications\")\n",
    "\n",
    "driver = webdriver.Chrome(options=my_options)"
   ]
  },
  {
   "cell_type": "code",
   "execution_count": 14,
   "metadata": {},
   "outputs": [],
   "source": [
    "url ='https://www.gutenberg.org/browse/languages/zh'\n",
    "\n",
    "# 用 requests 的 get 方法把網頁抓下來\n",
    "res = req.get(url) \n",
    "\n",
    "# 指定 lxml 作為解析器\n",
    "soup = bs(res.text, \"lxml\") \n",
    "\n",
    "# 建立 list 來放置列表資訊\n",
    "list_posts = []"
   ]
  },
  {
   "cell_type": "code",
   "execution_count": 15,
   "metadata": {},
   "outputs": [
    {
     "name": "stdout",
     "output_type": "stream",
     "text": [
      "總本數為477本\n"
     ]
    }
   ],
   "source": [
    "list_posts.clear()\n",
    "NumberOfNode=0\n",
    "\n",
    "folderPath = 'test Gutenberg'\n",
    "if not os.path.exists(folderPath):\n",
    "    os.makedirs(folderPath)\n",
    "\n",
    "# 取得 列表 的文字與超連結\n",
    "for a in soup.select('div.pgdbbylanguage li.pgdbetext a[href]'):\n",
    "    regex01 = r'[\\u4E00-\\u9FFF]+(?!\\s|\\r|<br>)'\n",
    "    bookTitle=a.get_text()\n",
    "    bookHref=a['href']\n",
    "    match01 = re.match(regex01, bookTitle)\n",
    "    regex02 = r\"\\/ebooks\\/\"\n",
    "    bookNo = re.sub(regex02, \"\", bookHref)\n",
    "    if match01 and \"臺灣通史\" not in a.get_text():\n",
    "        # print(a.get_text())\n",
    "        # print(bookNo) # 或是 a.get('href') \n",
    "    \n",
    "        # 加入列表資訊\n",
    "        list_posts.append({\n",
    "            'title': bookTitle,\n",
    "            'id': bookNo\n",
    "    })\n",
    "\n",
    "for book in list_posts: \n",
    "    driver.get(f'https://www.gutenberg.org/cache/epub/{book[\"id\"]}/pg{book[\"id\"]}.txt')\n",
    "    file_path =os.path.join(f\"{folderPath}/{book['title']}.txt\")\n",
    "    text = driver.find_element(By.CSS_SELECTOR,'pre').get_attribute('innerText')\n",
    "    with open(file_path,'w',encoding='utf-8') as f:\n",
    "        f.write(text)\n",
    "\n",
    "    chineseText = []\n",
    "    onlyChineseRegex = r\"[^\\S\\r\\n]*[\\u4e00-\\u9fa5]+[^\\S\\r\\n]*\"\n",
    "    with open(file_path,'r',encoding='utf-8') as f:\n",
    "        for i in f.readlines():\n",
    "            if re.match(onlyChineseRegex,i):\n",
    "                chineseText.append(i)\n",
    "\n",
    "    with open(file_path, 'w', encoding='utf-8') as f:\n",
    "        for text in chineseText:\n",
    "            f.write(text)\n",
    "    \n",
    "    NumberOfNode +=1\n",
    "\n",
    "print(f'總本數為{NumberOfNode}本')\n",
    "\n"
   ]
  }
 ],
 "metadata": {
  "kernelspec": {
   "display_name": "web_scraping",
   "language": "python",
   "name": "python3"
  },
  "language_info": {
   "codemirror_mode": {
    "name": "ipython",
    "version": 3
   },
   "file_extension": ".py",
   "mimetype": "text/x-python",
   "name": "python",
   "nbconvert_exporter": "python",
   "pygments_lexer": "ipython3",
   "version": "3.10.15"
  }
 },
 "nbformat": 4,
 "nbformat_minor": 2
}
